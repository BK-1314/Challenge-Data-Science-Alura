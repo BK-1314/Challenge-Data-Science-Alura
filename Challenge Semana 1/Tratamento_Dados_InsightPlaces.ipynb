{
  "nbformat": 4,
  "nbformat_minor": 0,
  "metadata": {
    "colab": {
      "provenance": [],
      "toc_visible": true
    },
    "kernelspec": {
      "name": "python3",
      "display_name": "Python 3"
    },
    "language_info": {
      "name": "python"
    }
  },
  "cells": [
    {
      "cell_type": "markdown",
      "source": [
        "#<font color = grey> Preparando Ambiente\n",
        "----\n",
        "\n",
        "\n",
        "etapa de importação e configuração das bibliotecas necessarias para analizar e tratar os dados."
      ],
      "metadata": {
        "id": "SxNDAenHjBdz"
      }
    },
    {
      "cell_type": "markdown",
      "source": [
        "##Configurando Pyspark"
      ],
      "metadata": {
        "id": "OfZei0hqkFr5"
      }
    },
    {
      "cell_type": "markdown",
      "source": [
        "Instalando Dependências"
      ],
      "metadata": {
        "id": "vc6eUn0upjJg"
      }
    },
    {
      "cell_type": "code",
      "execution_count": 1,
      "metadata": {
        "id": "ZMPshVXHkHhU"
      },
      "outputs": [],
      "source": [
        "# instalar as dependências\n",
        "!apt-get update -qq\n",
        "!apt-get install openjdk-8-jdk-headless -qq > /dev/null\n",
        "!wget -q https://archive.apache.org/dist/spark/spark-3.1.2/spark-3.1.2-bin-hadoop2.7.tgz\n",
        "!tar xf spark-3.1.2-bin-hadoop2.7.tgz\n",
        "!pip install -q findspark"
      ]
    },
    {
      "cell_type": "markdown",
      "source": [
        "Definição das variáveis de ambiente:"
      ],
      "metadata": {
        "id": "BKOiukoGpqW3"
      }
    },
    {
      "cell_type": "code",
      "source": [
        "import os\n",
        "os.environ[\"JAVA_HOME\"] = \"/usr/lib/jvm/java-8-openjdk-amd64\"\n",
        "os.environ[\"SPARK_HOME\"] = \"/content/spark-3.1.2-bin-hadoop2.7\""
      ],
      "metadata": {
        "id": "P1JCQ0QSpoiT"
      },
      "execution_count": 2,
      "outputs": []
    },
    {
      "cell_type": "markdown",
      "source": [
        "Iniciando o ```findspark```:\n",
        "\n"
      ],
      "metadata": {
        "id": "HEMitgm4p5yF"
      }
    },
    {
      "cell_type": "code",
      "source": [
        "import findspark\n",
        "findspark.init()"
      ],
      "metadata": {
        "id": "4ZZpjphZqEY0"
      },
      "execution_count": 3,
      "outputs": []
    },
    {
      "cell_type": "markdown",
      "source": [
        "Após estas primeiras configurações, podemos iniciar uma SparkSession com os comandos abaixo:"
      ],
      "metadata": {
        "id": "TV0pbENoqJtk"
      }
    },
    {
      "cell_type": "code",
      "source": [
        "from pyspark.sql import SparkSession\n",
        "\n",
        "spark = SparkSession.builder \\\n",
        "    .master('local[*]') \\\n",
        "    .appName(\"Iniciando com Spark\") \\\n",
        "    .config('spark.ui.port', '4050') \\\n",
        "    .getOrCreate()"
      ],
      "metadata": {
        "id": "5JbP3MimqKe0"
      },
      "execution_count": 4,
      "outputs": []
    },
    {
      "cell_type": "markdown",
      "source": [
        "download e extração dos arquivos do ngrok:"
      ],
      "metadata": {
        "id": "b9J6GytWqLgm"
      }
    },
    {
      "cell_type": "code",
      "source": [
        "!wget -q https://bin.equinox.io/c/4VmDzA7iaHb/ngrok-stable-linux-amd64.zip\n",
        "!unzip ngrok-stable-linux-amd64.zip"
      ],
      "metadata": {
        "colab": {
          "base_uri": "https://localhost:8080/"
        },
        "id": "8YIAafeTqvot",
        "outputId": "3d314a84-a6af-4bc5-9b66-3a9062dc6752"
      },
      "execution_count": 5,
      "outputs": [
        {
          "output_type": "stream",
          "name": "stdout",
          "text": [
            "Archive:  ngrok-stable-linux-amd64.zip\n",
            "  inflating: ngrok                   \n"
          ]
        }
      ]
    },
    {
      "cell_type": "markdown",
      "source": [
        "Configurar o nosso Authtoken obtido no site do ngrok:"
      ],
      "metadata": {
        "id": "jvm_jCD_rAdX"
      }
    },
    {
      "cell_type": "code",
      "source": [
        "get_ipython().system_raw('./ngrok authtoken 2IK1NDDOEybXFGDUrhrblkA4ZkI_3KyowVSex27o939tN7WWG')\n",
        "get_ipython().system_raw('./ngrok http 4050 &')"
      ],
      "metadata": {
        "id": "WguR_MIxrOlA"
      },
      "execution_count": 6,
      "outputs": []
    },
    {
      "cell_type": "code",
      "source": [
        "!curl -s http://localhost:4040/api/tunnels"
      ],
      "metadata": {
        "id": "jiLur4xctkCP",
        "colab": {
          "base_uri": "https://localhost:8080/"
        },
        "outputId": "11ee66b5-deee-4292-eed7-4b67c02aaca9"
      },
      "execution_count": 7,
      "outputs": [
        {
          "output_type": "stream",
          "name": "stdout",
          "text": [
            "{\"tunnels\":[],\"uri\":\"/api/tunnels\"}\n"
          ]
        }
      ]
    },
    {
      "cell_type": "code",
      "source": [
        "spark"
      ],
      "metadata": {
        "colab": {
          "base_uri": "https://localhost:8080/",
          "height": 219
        },
        "id": "veDLL6EVvUh6",
        "outputId": "e2501960-e94a-49e5-dd9c-a48c732634c0"
      },
      "execution_count": 8,
      "outputs": [
        {
          "output_type": "execute_result",
          "data": {
            "text/plain": [
              "<pyspark.sql.session.SparkSession at 0x7f6af80fa460>"
            ],
            "text/html": [
              "\n",
              "            <div>\n",
              "                <p><b>SparkSession - in-memory</b></p>\n",
              "                \n",
              "        <div>\n",
              "            <p><b>SparkContext</b></p>\n",
              "\n",
              "            <p><a href=\"http://93e1e4209e03:4050\">Spark UI</a></p>\n",
              "\n",
              "            <dl>\n",
              "              <dt>Version</dt>\n",
              "                <dd><code>v3.1.2</code></dd>\n",
              "              <dt>Master</dt>\n",
              "                <dd><code>local[*]</code></dd>\n",
              "              <dt>AppName</dt>\n",
              "                <dd><code>Iniciando com Spark</code></dd>\n",
              "            </dl>\n",
              "        </div>\n",
              "        \n",
              "            </div>\n",
              "        "
            ]
          },
          "metadata": {},
          "execution_count": 8
        }
      ]
    },
    {
      "cell_type": "markdown",
      "source": [
        "##Conectando ao Drive"
      ],
      "metadata": {
        "id": "43gT_RtmnyLb"
      }
    },
    {
      "cell_type": "code",
      "source": [
        "from google.colab import drive\n",
        "drive.mount('/content/drive')"
      ],
      "metadata": {
        "colab": {
          "base_uri": "https://localhost:8080/"
        },
        "id": "Q-wjodSkn1jo",
        "outputId": "8ca4d2d8-c7c0-46a0-c37b-6d78dc6c18be"
      },
      "execution_count": 9,
      "outputs": [
        {
          "output_type": "stream",
          "name": "stdout",
          "text": [
            "Mounted at /content/drive\n"
          ]
        }
      ]
    },
    {
      "cell_type": "markdown",
      "source": [
        "##Importando Bibliotecas Úteis"
      ],
      "metadata": {
        "id": "22LODDG-6Jvk"
      }
    },
    {
      "cell_type": "code",
      "source": [
        "from pyspark.sql.functions import sum, col"
      ],
      "metadata": {
        "id": "BSW0rWX66Whe"
      },
      "execution_count": 10,
      "outputs": []
    },
    {
      "cell_type": "code",
      "source": [
        "#Biblioteca para ler .zip\n",
        "import zipfile"
      ],
      "metadata": {
        "id": "u-7TCAWwqqMm"
      },
      "execution_count": 11,
      "outputs": []
    },
    {
      "cell_type": "code",
      "source": [
        "from pyspark.sql.types import DoubleType, StringType, IntegerType\n",
        "from pyspark.sql import functions as f"
      ],
      "metadata": {
        "id": "OZ8oAEgQ6YZf"
      },
      "execution_count": 12,
      "outputs": []
    },
    {
      "cell_type": "markdown",
      "source": [
        "#Conectando o Dataframe"
      ],
      "metadata": {
        "id": "rhN-P232kLyy"
      }
    },
    {
      "cell_type": "markdown",
      "source": [
        "##Extranindo arquivo zip"
      ],
      "metadata": {
        "id": "lmvIErb-qqk7"
      }
    },
    {
      "cell_type": "code",
      "source": [
        "#Extraindo dados\n",
        "#ZipFile - Local do arquivo para extração, 'r' para apenas ler o arquivo\n",
        "#extractall - Local para onde quero extrair os arquivos\n",
        "zipfile.ZipFile('/content/drive/MyDrive/Projeto InsightPlaces/semana-1.zip','r').extractall('/content/drive/MyDrive/Projeto InsightPlaces/Dados Brutos')"
      ],
      "metadata": {
        "id": "8-z5NaCBq3Re"
      },
      "execution_count": 13,
      "outputs": []
    },
    {
      "cell_type": "markdown",
      "source": [
        "##Carregando Dados Brutos\n",
        "----\n",
        "\n",
        "\n",
        "[```spark.read.janon```](https://spark.apache.org/docs/3.1.2/api/python/reference/api/pyspark.sql.DataFrameReader.json.html)"
      ],
      "metadata": {
        "id": "jnBUxKw8rV25"
      }
    },
    {
      "cell_type": "code",
      "source": [
        "df = spark.read.json('/content/drive/MyDrive/Projeto InsightPlaces/Dados Brutos/dataset_bruto.json')"
      ],
      "metadata": {
        "id": "mjFm4MDbrfMp"
      },
      "execution_count": 14,
      "outputs": []
    },
    {
      "cell_type": "markdown",
      "source": [
        "#<font color = orange>Analizando os Dados"
      ],
      "metadata": {
        "id": "zHzVMAcitb4q"
      }
    },
    {
      "cell_type": "markdown",
      "source": [
        "##Tipo dos dados\n",
        "----\n",
        "\n",
        "[Base de dados - InsightPlaces](https://caelum-online-public.s3.amazonaws.com/challenge-spark/semana-1.zip)\n",
        "\n",
        "### Dicionário de Dados - Anuncio\n",
        "\n",
        "| Colunas         | Descrição                                                      |\n",
        "|-----------------|----------------------------------------------------------------|\n",
        "| id              | Código de identificação do anúncio no sistema da InsightPlaces |\n",
        "| tipo_unidade    | Tipo de imóvel (apartamento, casa e outros)                    |\n",
        "| tipo_uso        | Tipo de uso do imóvel (residencial ou comercial)               |\n",
        "| area_total      | Área total do imóvel (construção e terreno)                    |\n",
        "| area_util       | Área construída do imóvel                                      |\n",
        "| quartos         | Quantidade de quartos do imóvel                                |\n",
        "| suites          | Quantidade de suítes do imóvel                                 |\n",
        "| banheiros       | Quantidade de banheiros do imóvel                              |\n",
        "| vaga            | Quantidade de vagas de garagem do imóvel                       |\n",
        "| caracteristicas | Listagem de características do imóvel                          |\n",
        "| andar           | Número do andar do imóvel                                      |\n",
        "| endereco        | Informações sobre o endereço do imóvel                         |\n",
        "| valores         | Informações sobre valores de venda e locação dos imóveis       |"
      ],
      "metadata": {
        "id": "9-C1V7pPwiBR"
      }
    },
    {
      "cell_type": "markdown",
      "source": [
        "##Visualizando Dados"
      ],
      "metadata": {
        "id": "sB3CYO3at1Am"
      }
    },
    {
      "cell_type": "code",
      "source": [
        "df.toPandas()"
      ],
      "metadata": {
        "colab": {
          "base_uri": "https://localhost:8080/",
          "height": 424
        },
        "id": "phzEI_hit8sC",
        "outputId": "a177dd5d-d0a4-4240-b61e-c6be4a153187"
      },
      "execution_count": 15,
      "outputs": [
        {
          "output_type": "execute_result",
          "data": {
            "text/plain": [
              "                                                 anuncio  \\\n",
              "0      (0, [], [16], [0], [], (Centro, 20061003, Rio ...   \n",
              "1      (0, [], [14], [0], [], (Centro, 20051040, Rio ...   \n",
              "2      (0, [1026], [1026], [0], [], (Maria da Graça, ...   \n",
              "3      (0, [120], [120], [0], [Portão eletrônico, Con...   \n",
              "4      (0, [3], [3], [0], [], (São Cristóvão, 2093167...   \n",
              "...                                                  ...   \n",
              "89078  (0, [], [219, 283], [4], [], (Barra da Tijuca,...   \n",
              "89079  (0, [], [200, 446], [3, 4], [], (Leblon, 22450...   \n",
              "89080  (0, [], [130, 150], [3], [], (Lagoa, 22471004,...   \n",
              "89081  (0, [268], [268], [5], [], (Engenho de Dentro,...   \n",
              "89082  (0, [], [214, 448], [5, 6], [], (Lagoa, 224700...   \n",
              "\n",
              "                                                 imagens  \\\n",
              "0      [(39d6282a-71f3-47bc-94aa-909351ecd881, https:...   \n",
              "1      [(23d2b3ab-45b0-47f2-a27f-ffbe066c2c38, https:...   \n",
              "2      [(1da65baa-368b-490f-bef7-1834b9a428c1, https:...   \n",
              "3      [(79b542c6-49b4-4f06-80b5-ef4fcdf98f76, https:...   \n",
              "4      [(e2bc497b-6510-4731-8942-97b3d3cdab5e, https:...   \n",
              "...                                                  ...   \n",
              "89078  [(6445e6a2-ab4e-4635-8810-870664488db3, https:...   \n",
              "89079  [(7d9ccf17-96ab-49db-b601-0f0d5c2f7509, https:...   \n",
              "89080  [(03b6e9aa-d622-458b-8fea-b7a708a905ee, https:...   \n",
              "89081  [(0317b2ab-ddc8-45a7-8d96-583c793eb7d7, https:...   \n",
              "89082  [(43395bcc-f722-4fd6-8d15-dfaed703ee41, https:...   \n",
              "\n",
              "                                                usuario  \n",
              "0         (9d44563d-3405-4e84-9381-35b7cf40a9a4, Frank)  \n",
              "1      (36245be7-70fe-40cd-84d4-70a57dc8f976, Caroline)  \n",
              "2        (9dc415d8-1397-4d8d-8425-b8310fad309d, Oliver)  \n",
              "3       (9911a2df-f299-4a73-a384-281417abaf69, Matthew)  \n",
              "4          (240a7aab-12e5-4069-9a2c-9dca4c4f9c68, Jude)  \n",
              "...                                                 ...  \n",
              "89078     (ff6637f5-9fb1-4396-adae-327effb5f446, Bruce)  \n",
              "89079     (9dd42b59-2f28-4022-88a6-4383e7890f73, Tyler)  \n",
              "89080   (a06a18b3-4993-4f4b-b2e2-3e9e43fb9d3f, Malcolm)  \n",
              "89081     (f9292bf8-8f3f-476f-99fe-77caa979e99c, Adele)  \n",
              "89082  (acb67fb9-fb15-4119-a141-cbc653c5605a, Benedict)  \n",
              "\n",
              "[89083 rows x 3 columns]"
            ],
            "text/html": [
              "\n",
              "  <div id=\"df-a9adaf88-fb03-4727-aacc-42d84f309a0f\">\n",
              "    <div class=\"colab-df-container\">\n",
              "      <div>\n",
              "<style scoped>\n",
              "    .dataframe tbody tr th:only-of-type {\n",
              "        vertical-align: middle;\n",
              "    }\n",
              "\n",
              "    .dataframe tbody tr th {\n",
              "        vertical-align: top;\n",
              "    }\n",
              "\n",
              "    .dataframe thead th {\n",
              "        text-align: right;\n",
              "    }\n",
              "</style>\n",
              "<table border=\"1\" class=\"dataframe\">\n",
              "  <thead>\n",
              "    <tr style=\"text-align: right;\">\n",
              "      <th></th>\n",
              "      <th>anuncio</th>\n",
              "      <th>imagens</th>\n",
              "      <th>usuario</th>\n",
              "    </tr>\n",
              "  </thead>\n",
              "  <tbody>\n",
              "    <tr>\n",
              "      <th>0</th>\n",
              "      <td>(0, [], [16], [0], [], (Centro, 20061003, Rio ...</td>\n",
              "      <td>[(39d6282a-71f3-47bc-94aa-909351ecd881, https:...</td>\n",
              "      <td>(9d44563d-3405-4e84-9381-35b7cf40a9a4, Frank)</td>\n",
              "    </tr>\n",
              "    <tr>\n",
              "      <th>1</th>\n",
              "      <td>(0, [], [14], [0], [], (Centro, 20051040, Rio ...</td>\n",
              "      <td>[(23d2b3ab-45b0-47f2-a27f-ffbe066c2c38, https:...</td>\n",
              "      <td>(36245be7-70fe-40cd-84d4-70a57dc8f976, Caroline)</td>\n",
              "    </tr>\n",
              "    <tr>\n",
              "      <th>2</th>\n",
              "      <td>(0, [1026], [1026], [0], [], (Maria da Graça, ...</td>\n",
              "      <td>[(1da65baa-368b-490f-bef7-1834b9a428c1, https:...</td>\n",
              "      <td>(9dc415d8-1397-4d8d-8425-b8310fad309d, Oliver)</td>\n",
              "    </tr>\n",
              "    <tr>\n",
              "      <th>3</th>\n",
              "      <td>(0, [120], [120], [0], [Portão eletrônico, Con...</td>\n",
              "      <td>[(79b542c6-49b4-4f06-80b5-ef4fcdf98f76, https:...</td>\n",
              "      <td>(9911a2df-f299-4a73-a384-281417abaf69, Matthew)</td>\n",
              "    </tr>\n",
              "    <tr>\n",
              "      <th>4</th>\n",
              "      <td>(0, [3], [3], [0], [], (São Cristóvão, 2093167...</td>\n",
              "      <td>[(e2bc497b-6510-4731-8942-97b3d3cdab5e, https:...</td>\n",
              "      <td>(240a7aab-12e5-4069-9a2c-9dca4c4f9c68, Jude)</td>\n",
              "    </tr>\n",
              "    <tr>\n",
              "      <th>...</th>\n",
              "      <td>...</td>\n",
              "      <td>...</td>\n",
              "      <td>...</td>\n",
              "    </tr>\n",
              "    <tr>\n",
              "      <th>89078</th>\n",
              "      <td>(0, [], [219, 283], [4], [], (Barra da Tijuca,...</td>\n",
              "      <td>[(6445e6a2-ab4e-4635-8810-870664488db3, https:...</td>\n",
              "      <td>(ff6637f5-9fb1-4396-adae-327effb5f446, Bruce)</td>\n",
              "    </tr>\n",
              "    <tr>\n",
              "      <th>89079</th>\n",
              "      <td>(0, [], [200, 446], [3, 4], [], (Leblon, 22450...</td>\n",
              "      <td>[(7d9ccf17-96ab-49db-b601-0f0d5c2f7509, https:...</td>\n",
              "      <td>(9dd42b59-2f28-4022-88a6-4383e7890f73, Tyler)</td>\n",
              "    </tr>\n",
              "    <tr>\n",
              "      <th>89080</th>\n",
              "      <td>(0, [], [130, 150], [3], [], (Lagoa, 22471004,...</td>\n",
              "      <td>[(03b6e9aa-d622-458b-8fea-b7a708a905ee, https:...</td>\n",
              "      <td>(a06a18b3-4993-4f4b-b2e2-3e9e43fb9d3f, Malcolm)</td>\n",
              "    </tr>\n",
              "    <tr>\n",
              "      <th>89081</th>\n",
              "      <td>(0, [268], [268], [5], [], (Engenho de Dentro,...</td>\n",
              "      <td>[(0317b2ab-ddc8-45a7-8d96-583c793eb7d7, https:...</td>\n",
              "      <td>(f9292bf8-8f3f-476f-99fe-77caa979e99c, Adele)</td>\n",
              "    </tr>\n",
              "    <tr>\n",
              "      <th>89082</th>\n",
              "      <td>(0, [], [214, 448], [5, 6], [], (Lagoa, 224700...</td>\n",
              "      <td>[(43395bcc-f722-4fd6-8d15-dfaed703ee41, https:...</td>\n",
              "      <td>(acb67fb9-fb15-4119-a141-cbc653c5605a, Benedict)</td>\n",
              "    </tr>\n",
              "  </tbody>\n",
              "</table>\n",
              "<p>89083 rows × 3 columns</p>\n",
              "</div>\n",
              "      <button class=\"colab-df-convert\" onclick=\"convertToInteractive('df-a9adaf88-fb03-4727-aacc-42d84f309a0f')\"\n",
              "              title=\"Convert this dataframe to an interactive table.\"\n",
              "              style=\"display:none;\">\n",
              "        \n",
              "  <svg xmlns=\"http://www.w3.org/2000/svg\" height=\"24px\"viewBox=\"0 0 24 24\"\n",
              "       width=\"24px\">\n",
              "    <path d=\"M0 0h24v24H0V0z\" fill=\"none\"/>\n",
              "    <path d=\"M18.56 5.44l.94 2.06.94-2.06 2.06-.94-2.06-.94-.94-2.06-.94 2.06-2.06.94zm-11 1L8.5 8.5l.94-2.06 2.06-.94-2.06-.94L8.5 2.5l-.94 2.06-2.06.94zm10 10l.94 2.06.94-2.06 2.06-.94-2.06-.94-.94-2.06-.94 2.06-2.06.94z\"/><path d=\"M17.41 7.96l-1.37-1.37c-.4-.4-.92-.59-1.43-.59-.52 0-1.04.2-1.43.59L10.3 9.45l-7.72 7.72c-.78.78-.78 2.05 0 2.83L4 21.41c.39.39.9.59 1.41.59.51 0 1.02-.2 1.41-.59l7.78-7.78 2.81-2.81c.8-.78.8-2.07 0-2.86zM5.41 20L4 18.59l7.72-7.72 1.47 1.35L5.41 20z\"/>\n",
              "  </svg>\n",
              "      </button>\n",
              "      \n",
              "  <style>\n",
              "    .colab-df-container {\n",
              "      display:flex;\n",
              "      flex-wrap:wrap;\n",
              "      gap: 12px;\n",
              "    }\n",
              "\n",
              "    .colab-df-convert {\n",
              "      background-color: #E8F0FE;\n",
              "      border: none;\n",
              "      border-radius: 50%;\n",
              "      cursor: pointer;\n",
              "      display: none;\n",
              "      fill: #1967D2;\n",
              "      height: 32px;\n",
              "      padding: 0 0 0 0;\n",
              "      width: 32px;\n",
              "    }\n",
              "\n",
              "    .colab-df-convert:hover {\n",
              "      background-color: #E2EBFA;\n",
              "      box-shadow: 0px 1px 2px rgba(60, 64, 67, 0.3), 0px 1px 3px 1px rgba(60, 64, 67, 0.15);\n",
              "      fill: #174EA6;\n",
              "    }\n",
              "\n",
              "    [theme=dark] .colab-df-convert {\n",
              "      background-color: #3B4455;\n",
              "      fill: #D2E3FC;\n",
              "    }\n",
              "\n",
              "    [theme=dark] .colab-df-convert:hover {\n",
              "      background-color: #434B5C;\n",
              "      box-shadow: 0px 1px 3px 1px rgba(0, 0, 0, 0.15);\n",
              "      filter: drop-shadow(0px 1px 2px rgba(0, 0, 0, 0.3));\n",
              "      fill: #FFFFFF;\n",
              "    }\n",
              "  </style>\n",
              "\n",
              "      <script>\n",
              "        const buttonEl =\n",
              "          document.querySelector('#df-a9adaf88-fb03-4727-aacc-42d84f309a0f button.colab-df-convert');\n",
              "        buttonEl.style.display =\n",
              "          google.colab.kernel.accessAllowed ? 'block' : 'none';\n",
              "\n",
              "        async function convertToInteractive(key) {\n",
              "          const element = document.querySelector('#df-a9adaf88-fb03-4727-aacc-42d84f309a0f');\n",
              "          const dataTable =\n",
              "            await google.colab.kernel.invokeFunction('convertToInteractive',\n",
              "                                                     [key], {});\n",
              "          if (!dataTable) return;\n",
              "\n",
              "          const docLinkHtml = 'Like what you see? Visit the ' +\n",
              "            '<a target=\"_blank\" href=https://colab.research.google.com/notebooks/data_table.ipynb>data table notebook</a>'\n",
              "            + ' to learn more about interactive tables.';\n",
              "          element.innerHTML = '';\n",
              "          dataTable['output_type'] = 'display_data';\n",
              "          await google.colab.output.renderOutput(dataTable, element);\n",
              "          const docLink = document.createElement('div');\n",
              "          docLink.innerHTML = docLinkHtml;\n",
              "          element.appendChild(docLink);\n",
              "        }\n",
              "      </script>\n",
              "    </div>\n",
              "  </div>\n",
              "  "
            ]
          },
          "metadata": {},
          "execution_count": 15
        }
      ]
    },
    {
      "cell_type": "code",
      "source": [
        "df.printSchema()"
      ],
      "metadata": {
        "colab": {
          "base_uri": "https://localhost:8080/"
        },
        "id": "VjMR4OtMt0qw",
        "outputId": "a196f01e-350e-4b2a-fcb4-8115c1a4de9f"
      },
      "execution_count": 16,
      "outputs": [
        {
          "output_type": "stream",
          "name": "stdout",
          "text": [
            "root\n",
            " |-- anuncio: struct (nullable = true)\n",
            " |    |-- andar: long (nullable = true)\n",
            " |    |-- area_total: array (nullable = true)\n",
            " |    |    |-- element: string (containsNull = true)\n",
            " |    |-- area_util: array (nullable = true)\n",
            " |    |    |-- element: string (containsNull = true)\n",
            " |    |-- banheiros: array (nullable = true)\n",
            " |    |    |-- element: long (containsNull = true)\n",
            " |    |-- caracteristicas: array (nullable = true)\n",
            " |    |    |-- element: string (containsNull = true)\n",
            " |    |-- endereco: struct (nullable = true)\n",
            " |    |    |-- bairro: string (nullable = true)\n",
            " |    |    |-- cep: string (nullable = true)\n",
            " |    |    |-- cidade: string (nullable = true)\n",
            " |    |    |-- estado: string (nullable = true)\n",
            " |    |    |-- latitude: double (nullable = true)\n",
            " |    |    |-- longitude: double (nullable = true)\n",
            " |    |    |-- pais: string (nullable = true)\n",
            " |    |    |-- rua: string (nullable = true)\n",
            " |    |    |-- zona: string (nullable = true)\n",
            " |    |-- id: string (nullable = true)\n",
            " |    |-- quartos: array (nullable = true)\n",
            " |    |    |-- element: long (containsNull = true)\n",
            " |    |-- suites: array (nullable = true)\n",
            " |    |    |-- element: long (containsNull = true)\n",
            " |    |-- tipo_anuncio: string (nullable = true)\n",
            " |    |-- tipo_unidade: string (nullable = true)\n",
            " |    |-- tipo_uso: string (nullable = true)\n",
            " |    |-- vaga: array (nullable = true)\n",
            " |    |    |-- element: long (containsNull = true)\n",
            " |    |-- valores: array (nullable = true)\n",
            " |    |    |-- element: struct (containsNull = true)\n",
            " |    |    |    |-- condominio: string (nullable = true)\n",
            " |    |    |    |-- iptu: string (nullable = true)\n",
            " |    |    |    |-- tipo: string (nullable = true)\n",
            " |    |    |    |-- valor: string (nullable = true)\n",
            " |-- imagens: array (nullable = true)\n",
            " |    |-- element: struct (containsNull = true)\n",
            " |    |    |-- id: string (nullable = true)\n",
            " |    |    |-- url: string (nullable = true)\n",
            " |-- usuario: struct (nullable = true)\n",
            " |    |-- id: string (nullable = true)\n",
            " |    |-- nome: string (nullable = true)\n",
            "\n"
          ]
        }
      ]
    },
    {
      "cell_type": "markdown",
      "source": [
        "## Selecionar Coluna Anuncio\n",
        "----\n",
        "\n",
        "\n",
        "\n",
        "Para nossa análise, apenas as informações do campo \"anuncio\" serão relevantes. Por isso, vamos focar em analisar as colunas desse campo."
      ],
      "metadata": {
        "id": "j-jJgtXFuepI"
      }
    },
    {
      "cell_type": "code",
      "source": [
        "# Seleciona apenas a coluna \"anuncio\"\n",
        "anuncio= df.select('anuncio.*')\n",
        "anuncio.show(5)"
      ],
      "metadata": {
        "colab": {
          "base_uri": "https://localhost:8080/"
        },
        "id": "H6x3uwZAwmmB",
        "outputId": "b9896ab4-326d-498c-a105-1769837bfb4d"
      },
      "execution_count": 17,
      "outputs": [
        {
          "output_type": "stream",
          "name": "stdout",
          "text": [
            "+-----+----------+---------+---------+--------------------+--------------------+--------------------+-------+------+------------+------------+-----------+----+--------------------+\n",
            "|andar|area_total|area_util|banheiros|     caracteristicas|            endereco|                  id|quartos|suites|tipo_anuncio|tipo_unidade|   tipo_uso|vaga|             valores|\n",
            "+-----+----------+---------+---------+--------------------+--------------------+--------------------+-------+------+------------+------------+-----------+----+--------------------+\n",
            "|    0|        []|     [16]|      [0]|                  []|{Centro, 20061003...|47d553e0-79f2-4a4...|    [0]|   [0]|       Usado|      Outros|  Comercial| [1]|[{260, 107, Venda...|\n",
            "|    0|        []|     [14]|      [0]|                  []|{Centro, 20051040...|b6ffbae1-17f6-487...|    [0]|    []|       Usado|      Outros|  Comercial| [0]|[{260, 107, Venda...|\n",
            "|    0|    [1026]|   [1026]|      [0]|                  []|{Maria da Graça, ...|1fb030a5-9e3e-4a1...|    [0]|    []|       Usado|      Outros|  Comercial| [0]|[{null, 1613, Ven...|\n",
            "|    0|     [120]|    [120]|      [0]|[Portão eletrônic...|{Campo Grande, 23...|ac6cb348-69d6-45a...|    [0]|    []|       Usado|      Outros|Residencial|  []|[{80, null, Venda...|\n",
            "|    0|       [3]|      [3]|      [0]|                  []|{São Cristóvão, 2...|e032b908-ef42-4d4...|    [0]|    []|       Usado|      Outros|Residencial|  []|[{0, 0, Venda, 50...|\n",
            "+-----+----------+---------+---------+--------------------+--------------------+--------------------+-------+------+------------+------------+-----------+----+--------------------+\n",
            "only showing top 5 rows\n",
            "\n"
          ]
        }
      ]
    },
    {
      "cell_type": "code",
      "source": [
        "anuncio.printSchema()"
      ],
      "metadata": {
        "colab": {
          "base_uri": "https://localhost:8080/"
        },
        "id": "DwxDDxph1sx7",
        "outputId": "7f3928d2-2181-4bec-c506-5cb34b96b009"
      },
      "execution_count": 18,
      "outputs": [
        {
          "output_type": "stream",
          "name": "stdout",
          "text": [
            "root\n",
            " |-- andar: long (nullable = true)\n",
            " |-- area_total: array (nullable = true)\n",
            " |    |-- element: string (containsNull = true)\n",
            " |-- area_util: array (nullable = true)\n",
            " |    |-- element: string (containsNull = true)\n",
            " |-- banheiros: array (nullable = true)\n",
            " |    |-- element: long (containsNull = true)\n",
            " |-- caracteristicas: array (nullable = true)\n",
            " |    |-- element: string (containsNull = true)\n",
            " |-- endereco: struct (nullable = true)\n",
            " |    |-- bairro: string (nullable = true)\n",
            " |    |-- cep: string (nullable = true)\n",
            " |    |-- cidade: string (nullable = true)\n",
            " |    |-- estado: string (nullable = true)\n",
            " |    |-- latitude: double (nullable = true)\n",
            " |    |-- longitude: double (nullable = true)\n",
            " |    |-- pais: string (nullable = true)\n",
            " |    |-- rua: string (nullable = true)\n",
            " |    |-- zona: string (nullable = true)\n",
            " |-- id: string (nullable = true)\n",
            " |-- quartos: array (nullable = true)\n",
            " |    |-- element: long (containsNull = true)\n",
            " |-- suites: array (nullable = true)\n",
            " |    |-- element: long (containsNull = true)\n",
            " |-- tipo_anuncio: string (nullable = true)\n",
            " |-- tipo_unidade: string (nullable = true)\n",
            " |-- tipo_uso: string (nullable = true)\n",
            " |-- vaga: array (nullable = true)\n",
            " |    |-- element: long (containsNull = true)\n",
            " |-- valores: array (nullable = true)\n",
            " |    |-- element: struct (containsNull = true)\n",
            " |    |    |-- condominio: string (nullable = true)\n",
            " |    |    |-- iptu: string (nullable = true)\n",
            " |    |    |-- tipo: string (nullable = true)\n",
            " |    |    |-- valor: string (nullable = true)\n",
            "\n"
          ]
        }
      ]
    },
    {
      "cell_type": "markdown",
      "source": [
        "##Filtrar a base de dados\n",
        "\n",
        "----\n",
        "O time de Data Science solicitou que fizéssemos alguns filtros nas colunas `tipo_uso`, `tipo_unidade` e `tipo_anuncio` da nossa base de dados:\n",
        "\n",
        "1. tipo_uso: **Residencial**;\n",
        "2. tipo_unidade: **Apartamento**;\n",
        "3. tipo_anuncio: **Usado**.\n",
        "\n",
        "\n",
        "\n"
      ],
      "metadata": {
        "id": "P6MHKzOy2Rsv"
      }
    },
    {
      "cell_type": "markdown",
      "source": [
        "### Entendendo Impactos dos dados\n",
        "----\n",
        "Analizando a frequência de cada um dos campos a serem filtrados"
      ],
      "metadata": {
        "id": "VwbbQfAk3RPW"
      }
    },
    {
      "cell_type": "markdown",
      "source": [
        "####**`tipo_uso`:**"
      ],
      "metadata": {
        "id": "vwECddP3396D"
      }
    },
    {
      "cell_type": "code",
      "source": [
        "freq_tipo_uso = anuncio.groupBy('tipo_uso').count()\n",
        "freq_tipo_uso.show()"
      ],
      "metadata": {
        "colab": {
          "base_uri": "https://localhost:8080/"
        },
        "id": "zQQeG2om4KK0",
        "outputId": "6d11f099-01b8-4b6b-bac5-35d4a45196f2"
      },
      "execution_count": 19,
      "outputs": [
        {
          "output_type": "stream",
          "name": "stdout",
          "text": [
            "+-----------+-----+\n",
            "|   tipo_uso|count|\n",
            "+-----------+-----+\n",
            "|  Comercial| 4542|\n",
            "|Residencial|84541|\n",
            "+-----------+-----+\n",
            "\n"
          ]
        }
      ]
    },
    {
      "cell_type": "code",
      "source": [
        "# Calcula a contagem de cada tipo de uso\n",
        "tipo_uso_count = anuncio.groupBy('tipo_uso').count()\n",
        "\n",
        "# Calcula o total de todas as linhas da coluna de contagem\n",
        "total = tipo_uso_count.agg(sum('count')).collect()[0][0]\n",
        "\n",
        "# Adiciona uma nova coluna com a porcentagem de cada tipo de uso em relação ao total\n",
        "tipo_uso_pct = tipo_uso_count.withColumn('percent', col('count')/total*100)\n",
        "\n",
        "tipo_uso_pct.show()"
      ],
      "metadata": {
        "colab": {
          "base_uri": "https://localhost:8080/"
        },
        "id": "XX878gPP5loz",
        "outputId": "c08d4b62-97a1-47f3-c3e8-d4e6e3b98e6d"
      },
      "execution_count": 20,
      "outputs": [
        {
          "output_type": "stream",
          "name": "stdout",
          "text": [
            "+-----------+-----+-----------------+\n",
            "|   tipo_uso|count|          percent|\n",
            "+-----------+-----+-----------------+\n",
            "|  Comercial| 4542|5.098615897533761|\n",
            "|Residencial|84541|94.90138410246624|\n",
            "+-----------+-----+-----------------+\n",
            "\n"
          ]
        }
      ]
    },
    {
      "cell_type": "markdown",
      "source": [
        "Com base nessas informações, podemos analisar a distribuição dos imóveis entre os tipos de uso residencial e comercial. Podemos verificar que a maioria dos imóveis são residenciais, representando cerca de 95% da base de dados, enquanto os imóveis comerciais representam apenas cerca de 5%. Essa análise pode ser útil para compreender a dinâmica do mercado imobiliário da região em que a base de dados foi coletada, bem como para direcionar estratégias de marketing e vendas de imóveis residenciais e comerciais."
      ],
      "metadata": {
        "id": "HpBQWj395ttZ"
      }
    },
    {
      "cell_type": "markdown",
      "source": [
        "####**`tipo_unidade`:**"
      ],
      "metadata": {
        "id": "1nlRvJIS4b1m"
      }
    },
    {
      "cell_type": "code",
      "source": [
        "# Calcula a contagem de cada tipo de unidade\n",
        "tipo_unidade_count = anuncio.groupBy('tipo_unidade').count()\n",
        "\n",
        "# Calcula o total de todas as linhas da coluna de contagem\n",
        "total = tipo_unidade_count.agg(sum('count')).collect()[0][0]\n",
        "\n",
        "# Adiciona uma nova coluna com a porcentagem de cada tipo de unidade em relação ao total\n",
        "tipo_unidade_pct = tipo_unidade_count.withColumn('percent', col('count')/total*100)\n",
        "\n",
        "tipo_unidade_pct.show()\n"
      ],
      "metadata": {
        "colab": {
          "base_uri": "https://localhost:8080/"
        },
        "outputId": "64acbe77-4b2c-4b0e-b6e8-e5b2ca453255",
        "id": "E1iUW7394b1m"
      },
      "execution_count": 21,
      "outputs": [
        {
          "output_type": "stream",
          "name": "stdout",
          "text": [
            "+------------+-----+------------------+\n",
            "|tipo_unidade|count|           percent|\n",
            "+------------+-----+------------------+\n",
            "|      Outros|11963|13.429049313561512|\n",
            "| Apartamento|66801| 74.98737132786279|\n",
            "|        Casa|10319| 11.58357935857571|\n",
            "+------------+-----+------------------+\n",
            "\n"
          ]
        }
      ]
    },
    {
      "cell_type": "markdown",
      "source": [
        "Uma hipótese é que a predominância de apartamentos no Rio de Janeiro seja explicada pelo fato de que a cidade é uma metrópole, com uma alta densidade populacional e uma grande demanda por moradia. O fato de que o crescimento vertical é mais viável em áreas urbanas também pode ter um papel importante nessa tendência."
      ],
      "metadata": {
        "id": "tV2OkkKC-xka"
      }
    },
    {
      "cell_type": "markdown",
      "source": [
        "####**`tipo_anuncio`:**"
      ],
      "metadata": {
        "id": "C14ENkF54bsH"
      }
    },
    {
      "cell_type": "code",
      "source": [
        "# Calcula a contagem de cada tipo de anuncio\n",
        "tipo_anuncio_count = anuncio.groupBy('tipo_anuncio').count()\n",
        "\n",
        "# Calcula o total de todas as linhas da coluna de contagem\n",
        "total = tipo_anuncio_count.agg(sum('count')).collect()[0][0]\n",
        "\n",
        "# Adiciona uma nova coluna com a porcentagem de cada tipo de anuncio em relação ao total\n",
        "tipo_anuncio_pct = tipo_anuncio_count.withColumn('percent', col('count')/total*100)\n",
        "\n",
        "tipo_anuncio_pct.show()\n"
      ],
      "metadata": {
        "colab": {
          "base_uri": "https://localhost:8080/"
        },
        "outputId": "dd230cbd-7cb2-4a20-e443-22e214e894d0",
        "id": "xuy2lMcW4bsH"
      },
      "execution_count": 22,
      "outputs": [
        {
          "output_type": "stream",
          "name": "stdout",
          "text": [
            "+------------+-----+-------------------+\n",
            "|tipo_anuncio|count|            percent|\n",
            "+------------+-----+-------------------+\n",
            "|       Usado|88827|  99.71262754958859|\n",
            "|  Lançamento|  256|0.28737245041141407|\n",
            "+------------+-----+-------------------+\n",
            "\n"
          ]
        }
      ]
    },
    {
      "cell_type": "markdown",
      "source": [
        "Os dados sugerem que a maioria dos imóveis anunciados são usados, indicando uma maior oferta de imóveis usados no mercado imobiliário. O número de lançamentos é relativamente baixo em comparação com o número de imóveis usados, o que pode indicar uma menor oferta de imóveis novos na região analisada e uma menor oferta de opções para compradores que buscam imóveis novos em relação aos que buscam imóveis usados."
      ],
      "metadata": {
        "id": "1p9E4PjYAlKy"
      }
    },
    {
      "cell_type": "markdown",
      "source": [
        "###Aplicar filtros a base\n",
        "----"
      ],
      "metadata": {
        "id": "PRuJh5G9AshM"
      }
    },
    {
      "cell_type": "code",
      "source": [
        "anuncio = anuncio\\\n",
        "    .where(anuncio['tipo_uso'].like('Residencial'))\\\n",
        "    .where(anuncio['tipo_unidade'].like('Apartamento'))\\\n",
        "    .where(anuncio['tipo_anuncio'].like('Usado'))"
      ],
      "metadata": {
        "id": "tdeyrkptBH3h"
      },
      "execution_count": 23,
      "outputs": []
    },
    {
      "cell_type": "markdown",
      "source": [
        "###Verificar filtros a base\n",
        "----"
      ],
      "metadata": {
        "id": "h8PDRHwEZWyz"
      }
    },
    {
      "cell_type": "code",
      "source": [
        "anuncio\\\n",
        "    .select('tipo_uso')\\\n",
        "    .groupBy('tipo_uso')\\\n",
        "    .count()\\\n",
        "    .show()"
      ],
      "metadata": {
        "colab": {
          "base_uri": "https://localhost:8080/"
        },
        "id": "DWTQnA3qZWIB",
        "outputId": "90b39fcf-634a-4251-879e-7d3f4a9c46cd"
      },
      "execution_count": 24,
      "outputs": [
        {
          "output_type": "stream",
          "name": "stdout",
          "text": [
            "+-----------+-----+\n",
            "|   tipo_uso|count|\n",
            "+-----------+-----+\n",
            "|Residencial|66562|\n",
            "+-----------+-----+\n",
            "\n"
          ]
        }
      ]
    },
    {
      "cell_type": "code",
      "source": [
        "anuncio\\\n",
        "    .select('tipo_unidade')\\\n",
        "    .groupBy('tipo_unidade')\\\n",
        "    .count()\\\n",
        "    .show()"
      ],
      "metadata": {
        "colab": {
          "base_uri": "https://localhost:8080/"
        },
        "id": "AmvPG0uJZh0-",
        "outputId": "486a3d87-66dc-4829-8cf0-d636448e095b"
      },
      "execution_count": 25,
      "outputs": [
        {
          "output_type": "stream",
          "name": "stdout",
          "text": [
            "+------------+-----+\n",
            "|tipo_unidade|count|\n",
            "+------------+-----+\n",
            "| Apartamento|66562|\n",
            "+------------+-----+\n",
            "\n"
          ]
        }
      ]
    },
    {
      "cell_type": "code",
      "source": [
        "anuncio\\\n",
        "    .select('tipo_anuncio')\\\n",
        "    .groupBy('tipo_anuncio')\\\n",
        "    .count()\\\n",
        "    .show()"
      ],
      "metadata": {
        "colab": {
          "base_uri": "https://localhost:8080/"
        },
        "id": "MKPVNbuCZiQS",
        "outputId": "46b2a612-2cfa-4a71-8c1e-0213fff323c7"
      },
      "execution_count": 26,
      "outputs": [
        {
          "output_type": "stream",
          "name": "stdout",
          "text": [
            "+------------+-----+\n",
            "|tipo_anuncio|count|\n",
            "+------------+-----+\n",
            "|       Usado|66562|\n",
            "+------------+-----+\n",
            "\n"
          ]
        }
      ]
    },
    {
      "cell_type": "code",
      "source": [
        "anuncio.show(15)"
      ],
      "metadata": {
        "colab": {
          "base_uri": "https://localhost:8080/"
        },
        "id": "HefK1PB_Ec13",
        "outputId": "2e7b9570-9120-4f8f-e8ec-311b838edcbd"
      },
      "execution_count": 27,
      "outputs": [
        {
          "output_type": "stream",
          "name": "stdout",
          "text": [
            "+-----+----------+---------+---------+--------------------+--------------------+--------------------+-------+------+------------+------------+-----------+----+--------------------+\n",
            "|andar|area_total|area_util|banheiros|     caracteristicas|            endereco|                  id|quartos|suites|tipo_anuncio|tipo_unidade|   tipo_uso|vaga|             valores|\n",
            "+-----+----------+---------+---------+--------------------+--------------------+--------------------+-------+------+------------+------------+-----------+----+--------------------+\n",
            "|    3|      [43]|     [43]|      [1]|[Academia, Churra...|{Paciência, 23585...|d2e3a3aa-09b5-45a...|    [2]|    []|       Usado| Apartamento|Residencial| [1]|[{245, null, Vend...|\n",
            "|    2|      [42]|     [42]|      [1]|[Churrasqueira, P...|{Paciência, 23585...|085bab2c-87ad-452...|    [2]|    []|       Usado| Apartamento|Residencial| [1]|[{0, 0, Venda, 15...|\n",
            "|    1|      [41]|     [41]|      [1]|[Portaria 24h, Co...|{Guaratiba, 23036...|18d22cbe-1b86-476...|    [2]|    []|       Usado| Apartamento|Residencial| [1]|[{0, 0, Venda, 20...|\n",
            "|    3|      [43]|     [43]|      [1]|[Churrasqueira, P...|{Cosmos, 23066271...|bed8a354-9317-442...|    [2]|    []|       Usado| Apartamento|Residencial| [0]|[{285, null, Vend...|\n",
            "|    2|      [43]|     [43]|      [1]|[Academia, Churra...|{Guaratiba, 23036...|12a13315-d67f-48f...|    [2]|    []|       Usado| Apartamento|Residencial| [1]|[{245, null, Vend...|\n",
            "|    3|      [43]|     [43]|      [1]|[Churrasqueira, P...|{Cosmos, 23066271...|a2e6d7a5-0ff0-484...|    [2]|   [0]|       Usado| Apartamento|Residencial| [0]|[{285, null, Vend...|\n",
            "|    3|      [43]|     [43]|      [1]|[Churrasqueira, P...|{Paciência, 23585...|a6e3173b-c950-4db...|    [2]|    []|       Usado| Apartamento|Residencial| [1]|[{250, null, Vend...|\n",
            "|    3|      [43]|     [43]|      [1]|[Churrasqueira, P...|{Guaratiba, 23036...|2e6e5dfb-206c-496...|    [2]|   [0]|       Usado| Apartamento|Residencial| [1]|[{245, null, Vend...|\n",
            "|    3|      [43]|     [43]|      [1]|[Churrasqueira, P...|{Paciência, 23585...|99f8d0f9-95a4-461...|    [2]|   [0]|       Usado| Apartamento|Residencial| [1]|[{245, null, Vend...|\n",
            "|    4|      [43]|     [43]|      [1]|[Churrasqueira, P...|{Guaratiba, 23036...|b3f44c1a-2d50-4d5...|    [2]|    []|       Usado| Apartamento|Residencial| [1]|[{240, null, Vend...|\n",
            "|    0|      [60]|     [60]|      [1]|[Condomínio fechado]|{Pedra de Guarati...|dc99d9e1-4c63-41f...|    [2]|    []|       Usado| Apartamento|Residencial| [1]|[{0, 0, Venda, 15...|\n",
            "|    1|      [43]|     [43]|      [1]|[Churrasqueira, P...|{Cosmos, 23056630...|aa3606d8-8bcd-45e...|    [2]|    []|       Usado| Apartamento|Residencial| [1]|[{240, 0, Venda, ...|\n",
            "|    0|      [43]|     [43]|      [1]|[Churrasqueira, P...|{Campo Grande, 23...|df80b0d5-677c-4be...|    [2]|   [0]|       Usado| Apartamento|Residencial| [0]|[{245, null, Vend...|\n",
            "|    2|      [43]|     [43]|      [1]|[Academia, Churra...|{Santa Cruz, 2352...|3d6c0218-9b7d-474...|    [2]|    []|       Usado| Apartamento|Residencial| [2]|[{290, null, Vend...|\n",
            "|    3|      [43]|     [43]|      [1]|[Salão de festas,...|{Guaratiba, 23020...|304266cc-62d1-4ce...|    [2]|    []|       Usado| Apartamento|Residencial|  []|[{285, null, Vend...|\n",
            "+-----+----------+---------+---------+--------------------+--------------------+--------------------+-------+------+------------+------------+-----------+----+--------------------+\n",
            "only showing top 15 rows\n",
            "\n"
          ]
        }
      ]
    },
    {
      "cell_type": "markdown",
      "source": [
        "##Tratando os Dados"
      ],
      "metadata": {
        "id": "cseM-agcFKZy"
      }
    },
    {
      "cell_type": "markdown",
      "source": [
        "### Transformar Tipos\n",
        "----\n",
        "Transformar as colunas dos cômodos  e area dos imóveis de **listas** para **inteiros**"
      ],
      "metadata": {
        "id": "ob6Qgcn6FOie"
      }
    },
    {
      "cell_type": "markdown",
      "source": [
        "#### verificação das colunas\n",
        "----\n",
        "verificação se em cada uma das colunas existe apenas um valor dentro de cada lista"
      ],
      "metadata": {
        "id": "_90TzC8dJWI2"
      }
    },
    {
      "cell_type": "code",
      "source": [
        "to_int = ['area_total', 'area_util', 'banheiros', 'quartos', 'suites', 'vaga' ]\n",
        "\n",
        "for coluna in to_int:\n",
        "    anuncio\\\n",
        "        .select(f.size(col(coluna)).alias(coluna))\\\n",
        "        .groupBy(coluna)\\\n",
        "        .count().alias(\"Quantidade\")\\\n",
        "        .show()"
      ],
      "metadata": {
        "colab": {
          "base_uri": "https://localhost:8080/"
        },
        "id": "WNfz7gxwFHdN",
        "outputId": "e2a833dd-646a-4a07-c4a0-39c992df628f"
      },
      "execution_count": 28,
      "outputs": [
        {
          "output_type": "stream",
          "name": "stdout",
          "text": [
            "+----------+-----+\n",
            "|area_total|count|\n",
            "+----------+-----+\n",
            "|         1|57368|\n",
            "|         0| 9194|\n",
            "+----------+-----+\n",
            "\n",
            "+---------+-----+\n",
            "|area_util|count|\n",
            "+---------+-----+\n",
            "|        1|66562|\n",
            "+---------+-----+\n",
            "\n",
            "+---------+-----+\n",
            "|banheiros|count|\n",
            "+---------+-----+\n",
            "|        1|66562|\n",
            "+---------+-----+\n",
            "\n",
            "+-------+-----+\n",
            "|quartos|count|\n",
            "+-------+-----+\n",
            "|      1|66562|\n",
            "+-------+-----+\n",
            "\n",
            "+------+-----+\n",
            "|suites|count|\n",
            "+------+-----+\n",
            "|     1|61008|\n",
            "|     0| 5554|\n",
            "+------+-----+\n",
            "\n",
            "+----+-----+\n",
            "|vaga|count|\n",
            "+----+-----+\n",
            "|   1|63545|\n",
            "|   0| 3017|\n",
            "+----+-----+\n",
            "\n"
          ]
        }
      ]
    },
    {
      "cell_type": "markdown",
      "source": [
        "#### Transformando colunas"
      ],
      "metadata": {
        "id": "7gssRh30LWC9"
      }
    },
    {
      "cell_type": "markdown",
      "source": [
        "#####Extranindo elementos das listas"
      ],
      "metadata": {
        "id": "vJzQwFe_PgSe"
      }
    },
    {
      "cell_type": "code",
      "source": [
        "anuncio = anuncio\\\n",
        "    .select([f.col(c)[0].alias(c) if c in to_int else c for c in anuncio.columns])"
      ],
      "metadata": {
        "id": "0GCIBVz9LW6b"
      },
      "execution_count": 29,
      "outputs": []
    },
    {
      "cell_type": "markdown",
      "source": [
        "list comprehension:\n",
        "\n",
        "`[f.col(c)[0].alias(c) if c in to_int else c for c in anuncio.columns]`\n",
        "\n",
        "* <font color = purple>`for` <font color = black> **`c`** <font color = blue>`in` <font color = black> **`anuncio.columns`**\n",
        "\n",
        "    percorrendo todas as colunas do data frame anuncios\n",
        "\n",
        "* <font color = purple>`if` <font color = black>**`c`** `in` <font color = black>**`to_int`**\n",
        "\n",
        "    verifica se o valor esta dentro da lista de transformação\n",
        "\n",
        "    * Se <font color = green>Sim - <font color = black>`f.col(c)[0].alias(c)`:\n",
        "\n",
        "        seleciona apenas o primeiro elemento de dentro da lista e atribui ele a culuna, tira da lista.\n",
        "    * Se <font color = red> Não - <font color = black> `else c`\n",
        "        \n",
        "        mantem coluna\n",
        "\n"
      ],
      "metadata": {
        "id": "mDqYzLlZMIkr"
      }
    },
    {
      "cell_type": "markdown",
      "source": [
        "#####Transformando tipo para inteiro"
      ],
      "metadata": {
        "id": "Et5-2PUgPuHf"
      }
    },
    {
      "cell_type": "code",
      "source": [
        "for coluna in to_int:\n",
        "    anuncio\\\n",
        "        .select(coluna)\\\n",
        "        .printSchema()"
      ],
      "metadata": {
        "colab": {
          "base_uri": "https://localhost:8080/"
        },
        "id": "Zii62SZoQLza",
        "outputId": "81a9a73b-9962-47c7-f978-f791c3411a7b"
      },
      "execution_count": 30,
      "outputs": [
        {
          "output_type": "stream",
          "name": "stdout",
          "text": [
            "root\n",
            " |-- area_total: string (nullable = true)\n",
            "\n",
            "root\n",
            " |-- area_util: string (nullable = true)\n",
            "\n",
            "root\n",
            " |-- banheiros: long (nullable = true)\n",
            "\n",
            "root\n",
            " |-- quartos: long (nullable = true)\n",
            "\n",
            "root\n",
            " |-- suites: long (nullable = true)\n",
            "\n",
            "root\n",
            " |-- vaga: long (nullable = true)\n",
            "\n"
          ]
        }
      ]
    },
    {
      "cell_type": "code",
      "source": [
        "for coluna in to_int:\n",
        "    anuncio = anuncio\\\n",
        "                .withColumn(coluna,anuncio[coluna].cast(IntegerType()))"
      ],
      "metadata": {
        "id": "fI4dqcf8Ptk_"
      },
      "execution_count": 31,
      "outputs": []
    },
    {
      "cell_type": "code",
      "source": [
        "for coluna in to_int:\n",
        "    anuncio\\\n",
        "        .select(coluna)\\\n",
        "        .printSchema()"
      ],
      "metadata": {
        "colab": {
          "base_uri": "https://localhost:8080/"
        },
        "id": "JQTfPb4_MldV",
        "outputId": "ae47317d-d702-4dde-8808-736050dc312c"
      },
      "execution_count": 32,
      "outputs": [
        {
          "output_type": "stream",
          "name": "stdout",
          "text": [
            "root\n",
            " |-- area_total: integer (nullable = true)\n",
            "\n",
            "root\n",
            " |-- area_util: integer (nullable = true)\n",
            "\n",
            "root\n",
            " |-- banheiros: integer (nullable = true)\n",
            "\n",
            "root\n",
            " |-- quartos: integer (nullable = true)\n",
            "\n",
            "root\n",
            " |-- suites: integer (nullable = true)\n",
            "\n",
            "root\n",
            " |-- vaga: integer (nullable = true)\n",
            "\n"
          ]
        }
      ]
    },
    {
      "cell_type": "markdown",
      "source": [
        "### Tratamento de informações sobre localização"
      ],
      "metadata": {
        "id": "udBf5oG7R9Q0"
      }
    },
    {
      "cell_type": "markdown",
      "source": [
        "A equipe de ciência de dados nos solicitou que **apenas** as informações sobre **bairro** e zona da cidade fossem extraídas.\n",
        "\n",
        "Então, vamos analisar a coluna endereco e transformar apenas as informações sobre bairro e zona em colunas de nosso DataFrame."
      ],
      "metadata": {
        "id": "PCva5DInSDq3"
      }
    },
    {
      "cell_type": "code",
      "source": [
        "anuncio\\\n",
        "    .select('endereco')\\\n",
        "    .printSchema()"
      ],
      "metadata": {
        "colab": {
          "base_uri": "https://localhost:8080/"
        },
        "id": "MbiJWUtRR-13",
        "outputId": "1ec62502-f6a2-41a3-bd08-b03315f9eceb"
      },
      "execution_count": 33,
      "outputs": [
        {
          "output_type": "stream",
          "name": "stdout",
          "text": [
            "root\n",
            " |-- endereco: struct (nullable = true)\n",
            " |    |-- bairro: string (nullable = true)\n",
            " |    |-- cep: string (nullable = true)\n",
            " |    |-- cidade: string (nullable = true)\n",
            " |    |-- estado: string (nullable = true)\n",
            " |    |-- latitude: double (nullable = true)\n",
            " |    |-- longitude: double (nullable = true)\n",
            " |    |-- pais: string (nullable = true)\n",
            " |    |-- rua: string (nullable = true)\n",
            " |    |-- zona: string (nullable = true)\n",
            "\n"
          ]
        }
      ]
    },
    {
      "cell_type": "code",
      "source": [
        "anuncio = anuncio\\\n",
        "            .withColumn('bairro', anuncio['endereco']['bairro'])\\\n",
        "            .withColumn('zona', anuncio['endereco']['zona'])"
      ],
      "metadata": {
        "id": "9i8OTZuGTBAA"
      },
      "execution_count": 34,
      "outputs": []
    },
    {
      "cell_type": "code",
      "source": [
        "anuncio.show(5)"
      ],
      "metadata": {
        "colab": {
          "base_uri": "https://localhost:8080/"
        },
        "id": "wV-183wNU2YI",
        "outputId": "b78dea0e-3764-4bd2-8071-dd4ae41f87d1"
      },
      "execution_count": 35,
      "outputs": [
        {
          "output_type": "stream",
          "name": "stdout",
          "text": [
            "+-----+----------+---------+---------+--------------------+--------------------+--------------------+-------+------+------------+------------+-----------+----+--------------------+---------+----------+\n",
            "|andar|area_total|area_util|banheiros|     caracteristicas|            endereco|                  id|quartos|suites|tipo_anuncio|tipo_unidade|   tipo_uso|vaga|             valores|   bairro|      zona|\n",
            "+-----+----------+---------+---------+--------------------+--------------------+--------------------+-------+------+------------+------------+-----------+----+--------------------+---------+----------+\n",
            "|    3|        43|       43|        1|[Academia, Churra...|{Paciência, 23585...|d2e3a3aa-09b5-45a...|      2|  null|       Usado| Apartamento|Residencial|   1|[{245, null, Vend...|Paciência|Zona Oeste|\n",
            "|    2|        42|       42|        1|[Churrasqueira, P...|{Paciência, 23585...|085bab2c-87ad-452...|      2|  null|       Usado| Apartamento|Residencial|   1|[{0, 0, Venda, 15...|Paciência|Zona Oeste|\n",
            "|    1|        41|       41|        1|[Portaria 24h, Co...|{Guaratiba, 23036...|18d22cbe-1b86-476...|      2|  null|       Usado| Apartamento|Residencial|   1|[{0, 0, Venda, 20...|Guaratiba|Zona Oeste|\n",
            "|    3|        43|       43|        1|[Churrasqueira, P...|{Cosmos, 23066271...|bed8a354-9317-442...|      2|  null|       Usado| Apartamento|Residencial|   0|[{285, null, Vend...|   Cosmos|Zona Oeste|\n",
            "|    2|        43|       43|        1|[Academia, Churra...|{Guaratiba, 23036...|12a13315-d67f-48f...|      2|  null|       Usado| Apartamento|Residencial|   1|[{245, null, Vend...|Guaratiba|Zona Oeste|\n",
            "+-----+----------+---------+---------+--------------------+--------------------+--------------------+-------+------+------------+------------+-----------+----+--------------------+---------+----------+\n",
            "only showing top 5 rows\n",
            "\n"
          ]
        }
      ]
    },
    {
      "cell_type": "markdown",
      "source": [
        "###Transformar cada campo da coluna \"valores\" em uma coluna separada"
      ],
      "metadata": {
        "id": "gzthRYSpVEDG"
      }
    },
    {
      "cell_type": "markdown",
      "source": [
        "#### verificando tipos"
      ],
      "metadata": {
        "id": "Qo4N9mWHWTmy"
      }
    },
    {
      "cell_type": "code",
      "source": [
        "anuncio\\\n",
        "    .select('valores')\\\n",
        "    .printSchema()"
      ],
      "metadata": {
        "colab": {
          "base_uri": "https://localhost:8080/"
        },
        "id": "0pEAs4B0VFCG",
        "outputId": "49183ba7-09be-4998-c50c-6129a137da80"
      },
      "execution_count": 36,
      "outputs": [
        {
          "output_type": "stream",
          "name": "stdout",
          "text": [
            "root\n",
            " |-- valores: array (nullable = true)\n",
            " |    |-- element: struct (containsNull = true)\n",
            " |    |    |-- condominio: string (nullable = true)\n",
            " |    |    |-- iptu: string (nullable = true)\n",
            " |    |    |-- tipo: string (nullable = true)\n",
            " |    |    |-- valor: string (nullable = true)\n",
            "\n"
          ]
        }
      ]
    },
    {
      "cell_type": "code",
      "source": [
        "to_column = ['condominio', 'iptu', 'tipo', 'valor']"
      ],
      "metadata": {
        "id": "BEHQU2ATVTrL"
      },
      "execution_count": 37,
      "outputs": []
    },
    {
      "cell_type": "markdown",
      "source": [
        "####extraindo colunas"
      ],
      "metadata": {
        "id": "qDuvpeQWWXQ4"
      }
    },
    {
      "cell_type": "code",
      "source": [
        "for c in to_column:\n",
        "        anuncio = anuncio\\\n",
        "                    .withColumn(c, anuncio['valores'][c][0])"
      ],
      "metadata": {
        "id": "0IABXaXrVlpV"
      },
      "execution_count": 38,
      "outputs": []
    },
    {
      "cell_type": "code",
      "source": [
        "anuncio.show(5)"
      ],
      "metadata": {
        "colab": {
          "base_uri": "https://localhost:8080/"
        },
        "id": "_y_KL97aVpEM",
        "outputId": "9a9e42e9-806a-4dc8-815b-d56fcb4ed82d"
      },
      "execution_count": 39,
      "outputs": [
        {
          "output_type": "stream",
          "name": "stdout",
          "text": [
            "+-----+----------+---------+---------+--------------------+--------------------+--------------------+-------+------+------------+------------+-----------+----+--------------------+---------+----------+----------+----+-----+-----+\n",
            "|andar|area_total|area_util|banheiros|     caracteristicas|            endereco|                  id|quartos|suites|tipo_anuncio|tipo_unidade|   tipo_uso|vaga|             valores|   bairro|      zona|condominio|iptu| tipo|valor|\n",
            "+-----+----------+---------+---------+--------------------+--------------------+--------------------+-------+------+------------+------------+-----------+----+--------------------+---------+----------+----------+----+-----+-----+\n",
            "|    3|        43|       43|        1|[Academia, Churra...|{Paciência, 23585...|d2e3a3aa-09b5-45a...|      2|  null|       Usado| Apartamento|Residencial|   1|[{245, null, Vend...|Paciência|Zona Oeste|       245|null|Venda|15000|\n",
            "|    2|        42|       42|        1|[Churrasqueira, P...|{Paciência, 23585...|085bab2c-87ad-452...|      2|  null|       Usado| Apartamento|Residencial|   1|[{0, 0, Venda, 15...|Paciência|Zona Oeste|         0|   0|Venda|15000|\n",
            "|    1|        41|       41|        1|[Portaria 24h, Co...|{Guaratiba, 23036...|18d22cbe-1b86-476...|      2|  null|       Usado| Apartamento|Residencial|   1|[{0, 0, Venda, 20...|Guaratiba|Zona Oeste|         0|   0|Venda|20000|\n",
            "|    3|        43|       43|        1|[Churrasqueira, P...|{Cosmos, 23066271...|bed8a354-9317-442...|      2|  null|       Usado| Apartamento|Residencial|   0|[{285, null, Vend...|   Cosmos|Zona Oeste|       285|null|Venda|20000|\n",
            "|    2|        43|       43|        1|[Academia, Churra...|{Guaratiba, 23036...|12a13315-d67f-48f...|      2|  null|       Usado| Apartamento|Residencial|   1|[{245, null, Vend...|Guaratiba|Zona Oeste|       245|null|Venda|15000|\n",
            "+-----+----------+---------+---------+--------------------+--------------------+--------------------+-------+------+------------+------------+-----------+----+--------------------+---------+----------+----------+----+-----+-----+\n",
            "only showing top 5 rows\n",
            "\n"
          ]
        }
      ]
    },
    {
      "cell_type": "code",
      "source": [
        "for coluna in to_column:\n",
        "    anuncio\\\n",
        "        .select(coluna)\\\n",
        "        .printSchema()"
      ],
      "metadata": {
        "colab": {
          "base_uri": "https://localhost:8080/"
        },
        "id": "j8m7igfyXNIf",
        "outputId": "0980f3d9-7c05-4960-b756-b3a845094930"
      },
      "execution_count": 40,
      "outputs": [
        {
          "output_type": "stream",
          "name": "stdout",
          "text": [
            "root\n",
            " |-- condominio: string (nullable = true)\n",
            "\n",
            "root\n",
            " |-- iptu: string (nullable = true)\n",
            "\n",
            "root\n",
            " |-- tipo: string (nullable = true)\n",
            "\n",
            "root\n",
            " |-- valor: string (nullable = true)\n",
            "\n"
          ]
        }
      ]
    },
    {
      "cell_type": "markdown",
      "source": [
        "#### Alterando o Tipo"
      ],
      "metadata": {
        "id": "QVqNlraGWxlj"
      }
    },
    {
      "cell_type": "code",
      "source": [
        "    anuncio = anuncio\\\n",
        "                .withColumn('condominio',anuncio['condominio'].cast(DoubleType()))\\\n",
        "                .withColumn('iptu',anuncio['iptu'].cast(DoubleType()))\\\n",
        "                .withColumn('valor',anuncio['valor'].cast(DoubleType()))"
      ],
      "metadata": {
        "id": "unxFkjf5W0Wg"
      },
      "execution_count": 41,
      "outputs": []
    },
    {
      "cell_type": "code",
      "source": [
        "for coluna in to_column:\n",
        "    anuncio\\\n",
        "        .select(coluna)\\\n",
        "        .printSchema()"
      ],
      "metadata": {
        "colab": {
          "base_uri": "https://localhost:8080/"
        },
        "id": "NXyMMqclX5vf",
        "outputId": "2dc9f3c5-6fa2-40d1-be86-1a118793c3a6"
      },
      "execution_count": 42,
      "outputs": [
        {
          "output_type": "stream",
          "name": "stdout",
          "text": [
            "root\n",
            " |-- condominio: double (nullable = true)\n",
            "\n",
            "root\n",
            " |-- iptu: double (nullable = true)\n",
            "\n",
            "root\n",
            " |-- tipo: string (nullable = true)\n",
            "\n",
            "root\n",
            " |-- valor: double (nullable = true)\n",
            "\n"
          ]
        }
      ]
    },
    {
      "cell_type": "markdown",
      "source": [
        "### Filtro Vendas"
      ],
      "metadata": {
        "id": "ZKnSFGPWYePA"
      }
    },
    {
      "cell_type": "markdown",
      "source": [
        "\n",
        "A **InsightPlaces** permite que o(a) anunciante crie um anúncio com duas opções de valor. Assim, o(a) cliente pode criar um anúncio que mostre tanto o valor de venda do imóvel quanto o seu valor de locação, juntamente com os valores de taxa de condomínio (quando houver) e taxa de IPTU. Estes valores são diferenciados pelo campo `tipo` que pode assumir os valores `Venda` e `Aluguel`.\n",
        "\n",
        "Como se trata de um estudo sobre o preço de venda dos imóveis, o time de cientistas de dados solicitou apenas as informações do tipo VENDA.\n",
        "\n",
        "Selecione apenas os valores de **Venda**."
      ],
      "metadata": {
        "id": "Gy4d8x_eYGaQ"
      }
    },
    {
      "cell_type": "code",
      "source": [
        "anuncio = anuncio\\\n",
        "            .where(anuncio['tipo'].like('Venda'))"
      ],
      "metadata": {
        "id": "dLE_xVWBYF6o"
      },
      "execution_count": 43,
      "outputs": []
    },
    {
      "cell_type": "code",
      "source": [
        "anuncio\\\n",
        "    .select('tipo')\\\n",
        "    .groupBy('tipo')\\\n",
        "    .count()\\\n",
        "    .show()"
      ],
      "metadata": {
        "colab": {
          "base_uri": "https://localhost:8080/"
        },
        "id": "8_xqyKMBY4uZ",
        "outputId": "960b2835-24b1-42d7-fad7-00a220a72eef"
      },
      "execution_count": 44,
      "outputs": [
        {
          "output_type": "stream",
          "name": "stdout",
          "text": [
            "+-----+-----+\n",
            "| tipo|count|\n",
            "+-----+-----+\n",
            "|Venda|66348|\n",
            "+-----+-----+\n",
            "\n"
          ]
        }
      ]
    },
    {
      "cell_type": "code",
      "source": [
        "anuncio.printSchema()"
      ],
      "metadata": {
        "colab": {
          "base_uri": "https://localhost:8080/"
        },
        "id": "5qHuVuzXbE8P",
        "outputId": "8a114a7d-ca15-4605-ec00-a200c3d9259a"
      },
      "execution_count": 45,
      "outputs": [
        {
          "output_type": "stream",
          "name": "stdout",
          "text": [
            "root\n",
            " |-- andar: long (nullable = true)\n",
            " |-- area_total: integer (nullable = true)\n",
            " |-- area_util: integer (nullable = true)\n",
            " |-- banheiros: integer (nullable = true)\n",
            " |-- caracteristicas: array (nullable = true)\n",
            " |    |-- element: string (containsNull = true)\n",
            " |-- endereco: struct (nullable = true)\n",
            " |    |-- bairro: string (nullable = true)\n",
            " |    |-- cep: string (nullable = true)\n",
            " |    |-- cidade: string (nullable = true)\n",
            " |    |-- estado: string (nullable = true)\n",
            " |    |-- latitude: double (nullable = true)\n",
            " |    |-- longitude: double (nullable = true)\n",
            " |    |-- pais: string (nullable = true)\n",
            " |    |-- rua: string (nullable = true)\n",
            " |    |-- zona: string (nullable = true)\n",
            " |-- id: string (nullable = true)\n",
            " |-- quartos: integer (nullable = true)\n",
            " |-- suites: integer (nullable = true)\n",
            " |-- tipo_anuncio: string (nullable = true)\n",
            " |-- tipo_unidade: string (nullable = true)\n",
            " |-- tipo_uso: string (nullable = true)\n",
            " |-- vaga: integer (nullable = true)\n",
            " |-- valores: array (nullable = true)\n",
            " |    |-- element: struct (containsNull = true)\n",
            " |    |    |-- condominio: string (nullable = true)\n",
            " |    |    |-- iptu: string (nullable = true)\n",
            " |    |    |-- tipo: string (nullable = true)\n",
            " |    |    |-- valor: string (nullable = true)\n",
            " |-- bairro: string (nullable = true)\n",
            " |-- zona: string (nullable = true)\n",
            " |-- condominio: double (nullable = true)\n",
            " |-- iptu: double (nullable = true)\n",
            " |-- tipo: string (nullable = true)\n",
            " |-- valor: double (nullable = true)\n",
            "\n"
          ]
        }
      ]
    },
    {
      "cell_type": "markdown",
      "source": [
        "##Excluindo colunas desnecessarias"
      ],
      "metadata": {
        "id": "Hb5mcGC2eLnM"
      }
    },
    {
      "cell_type": "code",
      "source": [
        "drop_columns = ['caracteristicas', 'endereco', 'valores']"
      ],
      "metadata": {
        "id": "zxhlBAz0eg57"
      },
      "execution_count": 46,
      "outputs": []
    },
    {
      "cell_type": "code",
      "source": [
        "for c in drop_columns:\n",
        "    anuncio = anuncio\\\n",
        "                .drop(c)\n"
      ],
      "metadata": {
        "id": "dBrtATqoeLMV"
      },
      "execution_count": 47,
      "outputs": []
    },
    {
      "cell_type": "code",
      "source": [
        "anuncio.printSchema()"
      ],
      "metadata": {
        "colab": {
          "base_uri": "https://localhost:8080/"
        },
        "id": "MqpsMlQte8-Q",
        "outputId": "765d6e80-cd08-4309-c15d-3c77ac30de93"
      },
      "execution_count": 48,
      "outputs": [
        {
          "output_type": "stream",
          "name": "stdout",
          "text": [
            "root\n",
            " |-- andar: long (nullable = true)\n",
            " |-- area_total: integer (nullable = true)\n",
            " |-- area_util: integer (nullable = true)\n",
            " |-- banheiros: integer (nullable = true)\n",
            " |-- id: string (nullable = true)\n",
            " |-- quartos: integer (nullable = true)\n",
            " |-- suites: integer (nullable = true)\n",
            " |-- tipo_anuncio: string (nullable = true)\n",
            " |-- tipo_unidade: string (nullable = true)\n",
            " |-- tipo_uso: string (nullable = true)\n",
            " |-- vaga: integer (nullable = true)\n",
            " |-- bairro: string (nullable = true)\n",
            " |-- zona: string (nullable = true)\n",
            " |-- condominio: double (nullable = true)\n",
            " |-- iptu: double (nullable = true)\n",
            " |-- tipo: string (nullable = true)\n",
            " |-- valor: double (nullable = true)\n",
            "\n"
          ]
        }
      ]
    },
    {
      "cell_type": "markdown",
      "source": [
        "#Salvando os Dados"
      ],
      "metadata": {
        "id": "nd1PXfWFZ1S5"
      }
    },
    {
      "cell_type": "markdown",
      "source": [
        "##Arquivos PARQUET"
      ],
      "metadata": {
        "id": "2bFaO4yhaMEO"
      }
    },
    {
      "cell_type": "code",
      "source": [
        "anuncio.write.parquet(\n",
        "    path='/content/drive/MyDrive/Projeto InsightPlaces/Dados Tratados/parquet',\n",
        "    mode= 'overwrite'\n",
        ")"
      ],
      "metadata": {
        "id": "n8cgRvJHaLq3"
      },
      "execution_count": 49,
      "outputs": []
    },
    {
      "cell_type": "markdown",
      "source": [
        "##Arquivo csv"
      ],
      "metadata": {
        "id": "YjpClmiHaqEo"
      }
    },
    {
      "cell_type": "code",
      "source": [
        "anuncio.write.csv(\n",
        "    path='/content/drive/MyDrive/Projeto InsightPlaces/Dados Tratados/csv',\n",
        "    mode= 'overwrite',\n",
        "    sep=';',\n",
        "    header=True\n",
        ")"
      ],
      "metadata": {
        "id": "qBkSYv5qaI6o"
      },
      "execution_count": 50,
      "outputs": []
    },
    {
      "cell_type": "markdown",
      "source": [
        "##Comparando a velocidade de agregação em cada um desses arquivos."
      ],
      "metadata": {
        "id": "ndCku0ZQfLJq"
      }
    },
    {
      "cell_type": "code",
      "source": [
        "%%time\n",
        "df_parquet = spark.read.parquet('/content/drive/MyDrive/Projeto InsightPlaces/Dados Tratados/parquet')"
      ],
      "metadata": {
        "colab": {
          "base_uri": "https://localhost:8080/"
        },
        "id": "aETaTlMqfXl0",
        "outputId": "c9c3f334-96e8-420a-879e-d4053bad8feb"
      },
      "execution_count": 51,
      "outputs": [
        {
          "output_type": "stream",
          "name": "stdout",
          "text": [
            "CPU times: user 2.92 ms, sys: 67 µs, total: 2.99 ms\n",
            "Wall time: 175 ms\n"
          ]
        }
      ]
    },
    {
      "cell_type": "code",
      "source": [
        "%%time\n",
        "df_csv = spark.read.csv(\n",
        "    '/content/drive/MyDrive/Projeto InsightPlaces/Dados Tratados/csv', \n",
        "    sep=';', \n",
        "    inferSchema=True,\n",
        "    header=True\n",
        ")"
      ],
      "metadata": {
        "colab": {
          "base_uri": "https://localhost:8080/"
        },
        "id": "d9KITbNGfV2K",
        "outputId": "c9345e9f-5f7f-4edf-a0c3-bd1d752e56ff"
      },
      "execution_count": 52,
      "outputs": [
        {
          "output_type": "stream",
          "name": "stdout",
          "text": [
            "CPU times: user 9.46 ms, sys: 3.09 ms, total: 12.5 ms\n",
            "Wall time: 1.23 s\n"
          ]
        }
      ]
    },
    {
      "cell_type": "markdown",
      "source": [
        "Podemos concluir que a leitura do arquivo em formato Parquet é consideravelmente mais rápida do que a leitura do arquivo em formato CSV. Isso pode ser explicado pelo fato de que o Parquet é um formato de armazenamento colunar, o que o torna mais eficiente na leitura e agregação de dados, enquanto o CSV é um formato de armazenamento em linhas, o que pode tornar a leitura e agregação de dados mais lenta. Portanto, se a velocidade de leitura e agregação de dados for um fator importante, o uso de arquivos Parquet pode ser mais vantajoso."
      ],
      "metadata": {
        "id": "bnOQOKQvgmAe"
      }
    },
    {
      "cell_type": "code",
      "source": [
        "spark.stop()"
      ],
      "metadata": {
        "id": "nY5GIQijgodz"
      },
      "execution_count": 53,
      "outputs": []
    }
  ]
}